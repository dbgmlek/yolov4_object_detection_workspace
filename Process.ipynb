{
 "cells": [
  {
   "cell_type": "markdown",
   "metadata": {
    "id": "MKqYrmcN46Ns"
   },
   "source": [
    "# 전작업\n",
    "- Colab GPU 설정\n",
    "- 구글 드라이브 연동"
   ]
  },
  {
   "cell_type": "code",
   "execution_count": null,
   "metadata": {
    "colab": {
     "base_uri": "https://localhost:8080/"
    },
    "executionInfo": {
     "elapsed": 17928,
     "status": "ok",
     "timestamp": 1648547067338,
     "user": {
      "displayName": "김성환",
      "userId": "02802166581970122576"
     },
     "user_tz": -540
    },
    "id": "cmHq9yfE5DaO",
    "outputId": "8eea3510-286b-48d6-eb78-a699f39a9a29"
   },
   "outputs": [],
   "source": [
    "from google.colab import drive\n",
    "drive.mount('/content/drive')"
   ]
  },
  {
   "cell_type": "markdown",
   "metadata": {
    "id": "m5nKxkKW46N0"
   },
   "source": [
    "# Yolo V4 설치\n",
    "\n",
    "## Github에서 clone\n",
    "\n",
    "```bash\n",
    "git clone https://github.com/AlexeyAB/darknet\n",
    "```\n",
    "- yolo 공식 홈페이지: https://pjreddie.com/darknet/yolo/\n",
    "- yolo 공식 github: https://github.com/pjreddie/darknet\n",
    "   - yolo 공식 github에서는 Linux 운영체제만 지원한다. \n",
    "- AlexeyAB\n",
    "   - https://github.com/AlexeyAB/darknet\n",
    "   - yolo 오리지널을 fork 해서 리눅스와 윈도우를 모두 지원하도록 구현.\n",
    "   - [Windows 설치](https://github.com/AlexeyAB/darknet#how-to-compile-on-windows-using-cmake)\n"
   ]
  },
  {
   "cell_type": "code",
   "execution_count": null,
   "metadata": {
    "colab": {
     "base_uri": "https://localhost:8080/"
    },
    "executionInfo": {
     "elapsed": 2294,
     "status": "ok",
     "timestamp": 1648547105098,
     "user": {
      "displayName": "김성환",
      "userId": "02802166581970122576"
     },
     "user_tz": -540
    },
    "id": "tJbguRA-46N1",
    "outputId": "ab6ac7f9-08b4-478f-ea5c-df885215247e"
   },
   "outputs": [],
   "source": [
    "#yolov4 clone\n",
    "!git clone https://github.com/AlexeyAB/darknet.git"
   ]
  },
  {
   "cell_type": "markdown",
   "metadata": {
    "id": "xEJIcMmq46N1"
   },
   "source": [
    "## make 를 위해 구동환경 옵션 변경\n",
    "- 다운받은 모델의 설치를 위해 make를 위한 구동환경 옵션을 변경\n",
    "    - darknet/Makefile 파일의 내용을 변경한다.\n",
    "\n",
    "> - **make**: 리눅스상에서 C 컴파일을 쉽게 해주는 프로그램    \n",
    "> - **makefile**: make가 컴파일 하는 과정을 정의한 설정파일\n",
    "```\n",
    "GPU=0\n",
    "CUDNN=0\n",
    "CUDNN_HALF=0\n",
    "OPENCV=0\n",
    "```\n",
    "을 1로 변경\n",
    "- CPU 환경일 경우 OPENCV=1 만 변경한다."
   ]
  },
  {
   "cell_type": "markdown",
   "metadata": {
    "id": "NqJFH4vu46N5"
   },
   "source": [
    "## make를 이용해 Yolo V4 설치"
   ]
  },
  {
   "cell_type": "code",
   "execution_count": null,
   "metadata": {
    "colab": {
     "base_uri": "https://localhost:8080/"
    },
    "executionInfo": {
     "elapsed": 393,
     "status": "ok",
     "timestamp": 1648547132099,
     "user": {
      "displayName": "김성환",
      "userId": "02802166581970122576"
     },
     "user_tz": -540
    },
    "id": "ZJEeFmyL46N6",
    "outputId": "9b43780f-0379-43cc-cca2-1410e5148eb2"
   },
   "outputs": [],
   "source": [
    "%cd darknet"
   ]
  },
  {
   "cell_type": "code",
   "execution_count": null,
   "metadata": {
    "colab": {
     "base_uri": "https://localhost:8080/"
    },
    "executionInfo": {
     "elapsed": 73672,
     "status": "ok",
     "timestamp": 1648547207312,
     "user": {
      "displayName": "김성환",
      "userId": "02802166581970122576"
     },
     "user_tz": -540
    },
    "id": "_5N-xC6U46N6",
    "outputId": "d37df89a-85bc-4b44-952f-810c8fa7b884"
   },
   "outputs": [],
   "source": [
    "!make"
   ]
  },
  {
   "cell_type": "markdown",
   "metadata": {
    "id": "uSb8EY_T46N7"
   },
   "source": [
    "## Pretrained Yolo V4 Weights 다운 로드\n",
    "\n",
    "YOLO v4는 [coco dataset](https://cocodataset.org/#home)의 80 class를 학습한 pretrained weight를 제공한다. 이것을 다운받으면 80개 클래스에 속한 object들에 대한 detection은 추가 학습 없이 할 수 있다.\n",
    "\n",
    "- `!wget -P 저장경로  https://github.com/AlexeyAB/darknet/releases/download/darknet_yolo_v3_optimal/yolov4.weights`\n",
    "\n",
    "> url의 파일을 다운로드 받는 리눅스 명령어\n",
    "> - wget -P <다운 받을 경로>  url"
   ]
  },
  {
   "cell_type": "code",
   "execution_count": null,
   "metadata": {
    "colab": {
     "base_uri": "https://localhost:8080/"
    },
    "executionInfo": {
     "elapsed": 3025,
     "status": "ok",
     "timestamp": 1648547210324,
     "user": {
      "displayName": "김성환",
      "userId": "02802166581970122576"
     },
     "user_tz": -540
    },
    "id": "IVe4LgAu46N7",
    "outputId": "e70e239b-f770-4e74-ef84-ca58b2b8ee95"
   },
   "outputs": [],
   "source": [
    "!wget -P pretrained_weight https://github.com/AlexeyAB/darknet/releases/download/darknet_yolo_v3_optimal/yolov4.weights"
   ]
  },
  {
   "cell_type": "markdown",
   "metadata": {
    "id": "dVSDisyk46N8"
   },
   "source": [
    "### Image 출력함수 정의"
   ]
  },
  {
   "cell_type": "code",
   "execution_count": null,
   "metadata": {
    "executionInfo": {
     "elapsed": 336,
     "status": "ok",
     "timestamp": 1648547221481,
     "user": {
      "displayName": "김성환",
      "userId": "02802166581970122576"
     },
     "user_tz": -540
    },
    "id": "yhD9qJzl46N8"
   },
   "outputs": [],
   "source": [
    "import cv2\n",
    "import matplotlib.pyplot as plt\n",
    "\n",
    "def im_show(image_path):\n",
    "    \"\"\"\n",
    "    매개변수로 이미지 경로를 받아서 그 이미지를 출력\n",
    "    \"\"\"\n",
    "    image = cv2.cvtColor(cv2.imread(image_path), cv2.COLOR_BGR2RGB)\n",
    "\n",
    "    plt.figure(figsize=(15,15))\n",
    "    plt.imshow(image)\n",
    "    plt.show()\n"
   ]
  },
  {
   "cell_type": "markdown",
   "metadata": {
    "id": "JAXSuvE68_i-"
   },
   "source": [
    "# 기본 경로 변수 정의"
   ]
  },
  {
   "cell_type": "code",
   "execution_count": null,
   "metadata": {
    "executionInfo": {
     "elapsed": 357,
     "status": "ok",
     "timestamp": 1648547234956,
     "user": {
      "displayName": "김성환",
      "userId": "02802166581970122576"
     },
     "user_tz": -540
    },
    "id": "oA5ROpj-46N9"
   },
   "outputs": [],
   "source": [
    "import os\n",
    "ROOT_PATH = \"/content/drive/MyDrive/object_detection/lion_tiger_detection_yolo\"\n",
    "# 테스트 이미지가 저장된 디렉토리 경로\n",
    "TEST_DATA_PATH = os.path.join(ROOT_PATH, \"test_data\")\n",
    "# 위에서 다운받은 Pre trained weight 저장 디렉토리 경로\n",
    "PRED_TRAINED_WEIGTH_PATH = \"/content/darknet/pretrained_weight/yolov4.weights\""
   ]
  },
  {
   "cell_type": "code",
   "execution_count": null,
   "metadata": {
    "colab": {
     "base_uri": "https://localhost:8080/",
     "height": 525
    },
    "executionInfo": {
     "elapsed": 2410,
     "status": "ok",
     "timestamp": 1648547247752,
     "user": {
      "displayName": "김성환",
      "userId": "02802166581970122576"
     },
     "user_tz": -540
    },
    "id": "oSOk-o3146N9",
    "outputId": "e4990cff-daaa-43db-e064-f80ed5006182"
   },
   "outputs": [],
   "source": [
    "# 이미지 확인\n",
    "im_show(os.path.join(TEST_DATA_PATH, 'hiway.jpg'))"
   ]
  },
  {
   "cell_type": "markdown",
   "metadata": {
    "id": "_cvzkFwh46N9"
   },
   "source": [
    "# Yolo V4 Object Detection 실행\n",
    "- Pretrained Weight를 이용해 영상안의 물체 검출\n",
    "- teminal 환경에서 **darknet 명령어**를 이용해 실행\n",
    "\n",
    "## darknet 명령어 옵션\n",
    "`darknet detector test <path to .data file> <path to config> <path to weights> <path to image> <flags>`\n",
    "\n",
    "- \\<path to .data file\\>\n",
    "    - `.data` 파일경로. .data파일은 Train/Test dataset 파일경로목록, .names 파일(클래스들 설정)등의 경로를 지정한 파일.\n",
    "- \\<path to config\\>\n",
    "    - .config 파일경로: 모델구조, Train/Test 관련 설정파일\n",
    "- \\<path to weights\\>\n",
    "    - 데이터를 학습시킨 weight 파일의 경로\n",
    "- \\<path to image\\>\n",
    "    - 추론(Detection)할 image 파일경로\n",
    "- \\<flag\\>\n",
    "    - 실행 옵션\n",
    "- detect가 끝나면 결과를 \"predictions.jpg\" 로 저장한다.    "
   ]
  },
  {
   "cell_type": "markdown",
   "metadata": {
    "id": "5jmjZYhP46N-"
   },
   "source": [
    "## Image Detection"
   ]
  },
  {
   "cell_type": "markdown",
   "metadata": {
    "id": "fXxEhEIq46N_"
   },
   "source": [
    "## 동영상 Detection\n",
    "darknet detetor demo <.data>  <.cfg>  <weights>  검출대상동영상경로  -out_filename  결과영상저장경로  -dont_show"
   ]
  },
  {
   "cell_type": "code",
   "execution_count": null,
   "metadata": {
    "colab": {
     "base_uri": "https://localhost:8080/",
     "height": 36
    },
    "executionInfo": {
     "elapsed": 347,
     "status": "ok",
     "timestamp": 1648547330551,
     "user": {
      "displayName": "김성환",
      "userId": "02802166581970122576"
     },
     "user_tz": -540
    },
    "id": "yid_RAj746N_",
    "outputId": "cd6ccc38-9677-4105-98e7-009207ddcac3"
   },
   "outputs": [],
   "source": [
    "# 테스트할 동영상 파일을 Google Drive에서 local로 복사\n",
    "f\"!cp {TEST_DATA_PATH}/test.mp4  /content/darknet/data\""
   ]
  },
  {
   "cell_type": "code",
   "execution_count": null,
   "metadata": {
    "executionInfo": {
     "elapsed": 484,
     "status": "ok",
     "timestamp": 1648547339824,
     "user": {
      "displayName": "김성환",
      "userId": "02802166581970122576"
     },
     "user_tz": -540
    },
    "id": "VPiiqVwX46N_"
   },
   "outputs": [],
   "source": []
  },
  {
   "cell_type": "code",
   "execution_count": null,
   "metadata": {
    "colab": {
     "base_uri": "https://localhost:8080/",
     "height": 55
    },
    "executionInfo": {
     "elapsed": 386,
     "status": "ok",
     "timestamp": 1648547423827,
     "user": {
      "displayName": "김성환",
      "userId": "02802166581970122576"
     },
     "user_tz": -540
    },
    "id": "vtStJ54xCH2k",
    "outputId": "942f852d-8ac5-46c5-8c54-70496710b279"
   },
   "outputs": [],
   "source": [
    "f\"!./darknet  detector  demo  cfg/coco.data   cfg/yolov4.cfg  {PRED_TRAINED_WEIGTH_PATH}  \\\n",
    "data/test.mp4  -out_filename  test_result.avi  -dont_show\""
   ]
  },
  {
   "cell_type": "code",
   "execution_count": null,
   "metadata": {
    "colab": {
     "base_uri": "https://localhost:8080/"
    },
    "executionInfo": {
     "elapsed": 15017,
     "status": "ok",
     "timestamp": 1648547444771,
     "user": {
      "displayName": "김성환",
      "userId": "02802166581970122576"
     },
     "user_tz": -540
    },
    "id": "TAILnwMBCH01",
    "outputId": "21594c7f-e312-400f-fad7-3a8c7d1843cf"
   },
   "outputs": [],
   "source": []
  },
  {
   "cell_type": "markdown",
   "metadata": {},
   "source": [
    "## detection 실행 옵션"
   ]
  },
  {
   "cell_type": "markdown",
   "metadata": {
    "id": "uQY6YMfe46OA"
   },
   "source": [
    "### 추론 결과 이미지가 안나오도록 설정.\n",
    "- `-dont_show` flag\n",
    "- colab 에서는 이미지/영상 출력이 안되기 때문에 이 flag를 명시해준다. "
   ]
  },
  {
   "cell_type": "code",
   "execution_count": null,
   "metadata": {
    "colab": {
     "base_uri": "https://localhost:8080/",
     "height": 36
    },
    "executionInfo": {
     "elapsed": 327,
     "status": "ok",
     "timestamp": 1648547274264,
     "user": {
      "displayName": "김성환",
      "userId": "02802166581970122576"
     },
     "user_tz": -540
    },
    "id": "obFud2a446N-",
    "outputId": "d4e76979-2f63-4cca-85a2-e5f031b4e086"
   },
   "outputs": [],
   "source": [
    "f\"!./darknet detector test  cfg/coco.data  cfg/yolov4.cfg  {PRED_TRAINED_WEIGTH_PATH}  data/person.jpg  -dont_show\""
   ]
  },
  {
   "cell_type": "code",
   "execution_count": null,
   "metadata": {
    "colab": {
     "base_uri": "https://localhost:8080/"
    },
    "executionInfo": {
     "elapsed": 8707,
     "status": "ok",
     "timestamp": 1648547290056,
     "user": {
      "displayName": "김성환",
      "userId": "02802166581970122576"
     },
     "user_tz": -540
    },
    "id": "JjiYNU8t46N-",
    "outputId": "4bc95153-257e-47dc-99f9-3d87bf8b50b8"
   },
   "outputs": [],
   "source": []
  },
  {
   "cell_type": "code",
   "execution_count": null,
   "metadata": {
    "colab": {
     "base_uri": "https://localhost:8080/",
     "height": 606
    },
    "executionInfo": {
     "elapsed": 2087,
     "status": "ok",
     "timestamp": 1648547299262,
     "user": {
      "displayName": "김성환",
      "userId": "02802166581970122576"
     },
     "user_tz": -540
    },
    "id": "E18_U31Q_F0p",
    "outputId": "a5894268-f4f2-4ea9-f220-725db5db2981"
   },
   "outputs": [],
   "source": [
    "im_show(\"predictions.jpg\")"
   ]
  },
  {
   "cell_type": "markdown",
   "metadata": {
    "id": "YCDt29eA46N_"
   },
   "source": [
    "### Threshold Flag\n",
    "- `-thresh`\n",
    "    - detection 결과의 confidence score의 threshold(임계값) 설정. \n",
    "    - ex) -thresh 0.7 : 0.7이상의 confidence score인 것만 detection 결과로 나온다."
   ]
  },
  {
   "cell_type": "code",
   "execution_count": null,
   "metadata": {
    "colab": {
     "base_uri": "https://localhost:8080/",
     "height": 55
    },
    "executionInfo": {
     "elapsed": 349,
     "status": "ok",
     "timestamp": 1648547486901,
     "user": {
      "displayName": "김성환",
      "userId": "02802166581970122576"
     },
     "user_tz": -540
    },
    "id": "hNTELuV646OA",
    "outputId": "af8e3947-e6d6-432b-ca15-c4d0a048f8b3"
   },
   "outputs": [],
   "source": [
    "f\"!./darknet detector test  cfg/coco.data  cfg/yolov4.cfg  /content/darknet/pretrained_weight/yolov4.weights  {TEST_DATA_PATH}/hiway.jpg -dont_show\""
   ]
  },
  {
   "cell_type": "code",
   "execution_count": null,
   "metadata": {
    "colab": {
     "base_uri": "https://localhost:8080/"
    },
    "executionInfo": {
     "elapsed": 3592,
     "status": "ok",
     "timestamp": 1648547498167,
     "user": {
      "displayName": "김성환",
      "userId": "02802166581970122576"
     },
     "user_tz": -540
    },
    "id": "WBMVe8CV46OA",
    "outputId": "b4542aaf-8dfd-4324-c477-fa42ec36073a"
   },
   "outputs": [],
   "source": []
  },
  {
   "cell_type": "code",
   "execution_count": null,
   "metadata": {
    "colab": {
     "base_uri": "https://localhost:8080/",
     "height": 525
    },
    "executionInfo": {
     "elapsed": 2079,
     "status": "ok",
     "timestamp": 1648547504695,
     "user": {
      "displayName": "김성환",
      "userId": "02802166581970122576"
     },
     "user_tz": -540
    },
    "id": "6ANQSenfN0dZ",
    "outputId": "401a7886-47ac-4610-d5fa-fefb3838bcdf"
   },
   "outputs": [],
   "source": [
    "im_show(\"predictions.jpg\")"
   ]
  },
  {
   "cell_type": "code",
   "execution_count": null,
   "metadata": {
    "colab": {
     "base_uri": "https://localhost:8080/"
    },
    "executionInfo": {
     "elapsed": 4623,
     "status": "ok",
     "timestamp": 1640565313177,
     "user": {
      "displayName": "김성환",
      "photoUrl": "https://lh3.googleusercontent.com/a/default-user=s64",
      "userId": "17974227978557155744"
     },
     "user_tz": -540
    },
    "id": "kjawlHsVN0Yy",
    "outputId": "519d4830-3a05-4c76-edcd-311cc44f6d4a"
   },
   "outputs": [],
   "source": [
    "# -thresh 옵션 설정\n",
    "# ex) -thresh 0.9 : Confidence score가 0.9이상인 것만 bbox를 출력\n",
    "f\"!./darknet detector test  cfg/coco.data  cfg/yolov4.cfg  /content/darknet/pretrained_weight/yolov4.weights  {TEST_DATA_PATH}/hiway.jpg -dont_show -thresh  0.9\""
   ]
  },
  {
   "cell_type": "code",
   "execution_count": null,
   "metadata": {},
   "outputs": [],
   "source": []
  },
  {
   "cell_type": "code",
   "execution_count": null,
   "metadata": {
    "colab": {
     "base_uri": "https://localhost:8080/",
     "height": 525
    },
    "executionInfo": {
     "elapsed": 3660,
     "status": "ok",
     "timestamp": 1640565326439,
     "user": {
      "displayName": "김성환",
      "photoUrl": "https://lh3.googleusercontent.com/a/default-user=s64",
      "userId": "17974227978557155744"
     },
     "user_tz": -540
    },
    "id": "tFI0gg1CN0R0",
    "outputId": "4bbb2480-deff-4401-b3fb-a0f2dcd6c320"
   },
   "outputs": [],
   "source": [
    "im_show('predictions.jpg')"
   ]
  },
  {
   "cell_type": "markdown",
   "metadata": {
    "id": "lGOHMdLc46OA"
   },
   "source": [
    "### 출력결과에 Bounding Box 좌표(Coordinate) 출력\n",
    "- `-ext_output`"
   ]
  },
  {
   "cell_type": "code",
   "execution_count": null,
   "metadata": {
    "colab": {
     "base_uri": "https://localhost:8080/"
    },
    "executionInfo": {
     "elapsed": 4581,
     "status": "ok",
     "timestamp": 1640565672392,
     "user": {
      "displayName": "김성환",
      "photoUrl": "https://lh3.googleusercontent.com/a/default-user=s64",
      "userId": "17974227978557155744"
     },
     "user_tz": -540
    },
    "id": "jDFiyEjj46OA",
    "outputId": "cae59348-2b00-4f33-d591-44f61fc33260"
   },
   "outputs": [],
   "source": [
    "f\"!./darknet detector test  cfg/coco.data  cfg/yolov4.cfg  /content/darknet/pretrained_weight/yolov4.weights  {TEST_DATA_PATH}/hiway.jpg -dont_show -thresh  0.9 -ext_output\""
   ]
  },
  {
   "cell_type": "code",
   "execution_count": null,
   "metadata": {},
   "outputs": [],
   "source": []
  },
  {
   "cell_type": "code",
   "execution_count": null,
   "metadata": {
    "colab": {
     "base_uri": "https://localhost:8080/",
     "height": 679
    },
    "executionInfo": {
     "elapsed": 4465,
     "status": "ok",
     "timestamp": 1640565698518,
     "user": {
      "displayName": "김성환",
      "photoUrl": "https://lh3.googleusercontent.com/a/default-user=s64",
      "userId": "17974227978557155744"
     },
     "user_tz": -540
    },
    "id": "pxGgM8GnVbjg",
    "outputId": "0dd22278-8337-4633-cbb9-e979f179c3c9"
   },
   "outputs": [],
   "source": [
    "im_show('predictions.jpg')"
   ]
  },
  {
   "cell_type": "code",
   "execution_count": null,
   "metadata": {
    "id": "xcbs_fTK46OB"
   },
   "outputs": [],
   "source": []
  },
  {
   "cell_type": "markdown",
   "metadata": {
    "id": "S6egTeAX46OB"
   },
   "source": [
    "### 결과 파일 저장\n",
    "- `-out 파일명`\n",
    "    - 파일명의 확장자를 `.json`으로 지정하면 json format으로 저장."
   ]
  },
  {
   "cell_type": "code",
   "execution_count": null,
   "metadata": {
    "colab": {
     "base_uri": "https://localhost:8080/"
    },
    "executionInfo": {
     "elapsed": 4612,
     "status": "ok",
     "timestamp": 1640565390848,
     "user": {
      "displayName": "김성환",
      "photoUrl": "https://lh3.googleusercontent.com/a/default-user=s64",
      "userId": "17974227978557155744"
     },
     "user_tz": -540
    },
    "id": "yZcAVTyi46OB",
    "outputId": "bcc8f1af-00d9-4c2d-b606-09eb7efcf073"
   },
   "outputs": [],
   "source": [
    "f\"!./darknet detector test  cfg/coco.data  cfg/yolov4.cfg  /content/darknet/pretrained_weight/yolov4.weights  {TEST_DATA_PATH}/hiway.jpg -dont_show -thresh  0.9   -out  results/hiway_result.json\""
   ]
  },
  {
   "cell_type": "code",
   "execution_count": null,
   "metadata": {
    "id": "FyuLhpV746OB"
   },
   "outputs": [],
   "source": []
  },
  {
   "cell_type": "markdown",
   "metadata": {
    "id": "W0L_Q9lW46OB"
   },
   "source": [
    "### 한번에 여러 이미지 Detection\n",
    "- text 파일에 Detection할 이미지 경로 목록을 작성한다. \n",
    "    - 한줄에 한 파일씩 경로를 작성한다. (절대경로로 작성한다)\n",
    "    - darknet 명령문 뒤에 `< 파일경로` 를 추가\n",
    "\n",
    "```\n",
    "darknet detector test cfg/coco.data cfg/yolov4.cfg yolov4.weights -ext_output -thresh 0.5 < data/images.txt\n",
    "```"
   ]
  },
  {
   "cell_type": "code",
   "execution_count": null,
   "metadata": {
    "id": "z-Rie8nt46OB"
   },
   "outputs": [],
   "source": [
    "f_list = [\n",
    "        \"data/person.jpg\\n\", \n",
    "        \"data/eagle.jpg\\n\",\n",
    "        \"data/dog.jpg\\n\"\n",
    "]\n",
    "with open('data/image_list.txt', 'wt') as f:\n",
    "    f.writelines(f_list)"
   ]
  },
  {
   "cell_type": "code",
   "execution_count": null,
   "metadata": {
    "colab": {
     "base_uri": "https://localhost:8080/"
    },
    "executionInfo": {
     "elapsed": 4816,
     "status": "ok",
     "timestamp": 1640565505416,
     "user": {
      "displayName": "김성환",
      "photoUrl": "https://lh3.googleusercontent.com/a/default-user=s64",
      "userId": "17974227978557155744"
     },
     "user_tz": -540
    },
    "id": "lQmUeZIp46OC",
    "outputId": "fba980f2-0f61-420e-e475-3dc8a3f80ba1"
   },
   "outputs": [],
   "source": [
    "f\"!./darknet detector test  cfg/coco.data  cfg/yolov4.cfg  /content/darknet/pretrained_weight/yolov4.weights  {TEST_DATA_PATH}/hiway.jpg -dont_show -thresh  0.5   -out  results/hiway_result.json < data/image_list.txt\""
   ]
  },
  {
   "cell_type": "code",
   "execution_count": null,
   "metadata": {},
   "outputs": [],
   "source": []
  },
  {
   "cell_type": "markdown",
   "metadata": {
    "id": "OUjZ5lKM46OC"
   },
   "source": [
    "# Custom Dataset 학습\n",
    "\n",
    "## 준비\n",
    "1. Custom Dataset 준비\n",
    "    - Image dataset과 Labeling한 annotation 파일 준비\n",
    "1. .data, .names 파일 준비\n",
    "1. TRAIN/VAL/TEST 이미지 목록파일.\n",
    "1. .cfg (config) 파일 준비\n",
    "1. convolution layer를 위한 Pretrained 모델 다운로드"
   ]
  },
  {
   "cell_type": "markdown",
   "metadata": {
    "id": "I-Z-o4gj46OC"
   },
   "source": [
    "## 학습할 Custom dataset 이미지 준비와 Labeling\n",
    "1. open image dataset (ms coco, pascal voc, open images dataset)을 이용해 image와 annotation 수집\n",
    "    - open dataset의 경우 image와 annotation 파일을 제공하므로 Labelling 작업이 용이하다. 그러나 open dataset 들마다 annotation 방식이 다르기 때문에 yolo annotation 방식에 맞게 변환하는 작업이 필요하다.\n",
    "2. 크롤링등을 이용해 직접 수집 후 labeling 작업\n",
    "    - Labeling Tool 을 이용해 수집한 이미지에 bounding box 작업을 한다.\n",
    "    \n",
    "### Yolo Label 형식\n",
    "- 이미지 데이터파일 별로 하나씩 작성하며 `.txt`로 저장한다.\n",
    "- 한줄에 하나의 object에 대한 bounding box 정보를 작성한다.\n",
    "- 형식\n",
    "    - `<label> <bbox center x좌표> <bbox center y좌표> <bbox width> <bbox height>`\n",
    "    - `0 0.331905 0.378493 0.568571 0.753599`\n",
    "    - 공백을 구분자로 사용한다.\n",
    "    - 좌표들은 이미지 width, height에 대한 비율로 작성한다.        "
   ]
  },
  {
   "cell_type": "markdown",
   "metadata": {
    "id": "GLj46uVncacF"
   },
   "source": [
    "## 경로 변수 정의"
   ]
  },
  {
   "cell_type": "code",
   "execution_count": null,
   "metadata": {
    "executionInfo": {
     "elapsed": 319,
     "status": "ok",
     "timestamp": 1648547531115,
     "user": {
      "displayName": "김성환",
      "userId": "02802166581970122576"
     },
     "user_tz": -540
    },
    "id": "NUr0zH6_46OC"
   },
   "outputs": [],
   "source": [
    "import os\n",
    "# 프로젝트 root path\n",
    "BASE_PATH = '/content/drive/MyDrive/object_detection/lion_tiger_detection_yolo'\n",
    "# workspace 경로\n",
    "WORKSPACE_PATH = os.path.join(BASE_PATH, 'workspace')\n",
    "# scripts 디렉토리 경로\n",
    "SCRIPT_PATH = os.path.join(BASE_PATH, 'scripts')\n",
    "\n",
    "# Dataset 관련 경로\n",
    "# image/annotation 저장 디렉토리 경로\n",
    "DATASET_ROOT_PATH = '/content/images'\n",
    "# Train/Validation/Test 이미지, annotation파일들의 경로\n",
    "TRAIN_DATASET_PATH = os.path.join(DATASET_ROOT_PATH, 'train')\n",
    "VAL_DATASET_PATH = os.path.join(DATASET_ROOT_PATH, 'val')\n",
    "TEST_DATASET_PATH = os.path.join(DATASET_ROOT_PATH, 'test')\n",
    "\n",
    "# 설정파일 관련 경로\n",
    "# 설정파일들의 ROOT 경로\n",
    "CONFIG_PATH = os.path.join(WORKSPACE_PATH, 'config')\n",
    "\n",
    "# .names 파일의 경로 -> 분류할 문체들의 class를 설정한 파일(Label map 의 역할)\n",
    "NAMES_FILE_PATH = os.path.join(CONFIG_PATH, 'obj.names')\n",
    "# .data 파일의 경로 -> 학습할 데이터, 학습관련사항을 설정한 파일\n",
    "DATA_FILE_PATH = os.path.join(CONFIG_PATH, 'obj.data')\n",
    "# cfg(config) 파일의 경로 -> yolo v4 모델의 구조관련 설정\n",
    "MODEL_CONFIG_FILE_PATH = os.path.join(CONFIG_PATH, \"yolov4.cfg\")\n",
    "\n",
    "# train/validation/test 이미지 파일 목록 설정 파일의 경로 - 모든 이미지 파일들의 경로를 작성한 목록파일\n",
    "TRAIN_LIST_FILE_PATH = os.path.join(CONFIG_PATH, 'train_list.txt') \n",
    "VAL_LIST_FILE_PATH = os.path.join(CONFIG_PATH, 'val_list.txt')\n",
    "TEST_LIST_FILE_PATH = os.path.join(CONFIG_PATH, 'test_list.txt')\n",
    "\n",
    "# weights 관련 path\n",
    "# custom data 학습 과정에서 생기는 weight 파일들을 저장(backup)할 경로\n",
    "WEIGHT_BACKUP_PATH = os.path.join(WORKSPACE_PATH, 'weight_backup')\n",
    "# 다운받은 pretrained weight를 저장할 경로\n",
    "PRE_TRAINED_WEIGHT_DIR_PATH = os.path.join(WORKSPACE_PATH, 'pretrained_weight')\n",
    "PRE_TRAINED_WEIGHT_FILE_PATH = os.path.join(PRE_TRAINED_WEIGHT_DIR_PATH, 'yolov4.conv.137')\n"
   ]
  },
  {
   "cell_type": "markdown",
   "metadata": {
    "id": "nBkEIx0Pgpbv"
   },
   "source": [
    "## Dataset 압축 풀기\n",
    "- 구글 드라이브에 저장된 lion_tiger.zip 파일을 local directory /content/images에 압축 풀기"
   ]
  },
  {
   "cell_type": "code",
   "execution_count": null,
   "metadata": {
    "colab": {
     "base_uri": "https://localhost:8080/",
     "height": 36
    },
    "executionInfo": {
     "elapsed": 315,
     "status": "ok",
     "timestamp": 1648547542538,
     "user": {
      "displayName": "김성환",
      "userId": "02802166581970122576"
     },
     "user_tz": -540
    },
    "id": "JwsGzAGm46OC",
    "outputId": "79dd026c-94f3-4d56-f2ee-b681c5417e3e"
   },
   "outputs": [],
   "source": [
    "f\"!unzip -q {os.path.join(BASE_PATH, 'raw_data', 'lion_tiger.zip')} -d {DATASET_ROOT_PATH}\""
   ]
  },
  {
   "cell_type": "code",
   "execution_count": null,
   "metadata": {
    "id": "8NoT5z4H46OD"
   },
   "outputs": [],
   "source": []
  },
  {
   "cell_type": "markdown",
   "metadata": {
    "id": "HOmulsAZ46OD"
   },
   "source": [
    "## Train을 위한 설정파일 작성\n",
    "\n",
    "### dataset 경로 목록 파일\n",
    "- 학습/검증/평가할 때 사용할 이미지들의 경로를 작성한 목록 파일을 작성한다.\n",
    "    - train/validation/test 데이터셋 별로 작성한다. \n",
    "        - 예를 들어 train.txt 파일에는 train dataset의 모든 이미지의 경로를 작성한다.\n",
    "    - 한줄에 한개의 파일씩 경로를 작성한다.\n",
    "    - 경로는 절대경로, 상대경로 관계없다. 상대경로의 경우 학습을 실행한 디렉토리 기준으로 지정한다."
   ]
  },
  {
   "cell_type": "code",
   "execution_count": null,
   "metadata": {
    "colab": {
     "base_uri": "https://localhost:8080/",
     "height": 55
    },
    "executionInfo": {
     "elapsed": 312,
     "status": "ok",
     "timestamp": 1648547571474,
     "user": {
      "displayName": "김성환",
      "userId": "02802166581970122576"
     },
     "user_tz": -540
    },
    "id": "0q5zQcqW46OD",
    "outputId": "e833fec9-6feb-4493-e3ce-f9998064d3f9"
   },
   "outputs": [],
   "source": [
    "# train set  파일 목록\n",
    "f\"!python {os.path.join(SCRIPT_PATH, 'make_file_list.py')} \\\n",
    "--directory {TRAIN_DATASET_PATH} --output {TRAIN_LIST_FILE_PATH}\""
   ]
  },
  {
   "cell_type": "code",
   "execution_count": null,
   "metadata": {},
   "outputs": [],
   "source": []
  },
  {
   "cell_type": "code",
   "execution_count": null,
   "metadata": {
    "colab": {
     "base_uri": "https://localhost:8080/",
     "height": 55
    },
    "executionInfo": {
     "elapsed": 309,
     "status": "ok",
     "timestamp": 1648547585514,
     "user": {
      "displayName": "김성환",
      "userId": "02802166581970122576"
     },
     "user_tz": -540
    },
    "id": "Jv29meh0jlm4",
    "outputId": "3d1a2070-e14b-4805-e40f-3ab5d12b4e30"
   },
   "outputs": [],
   "source": [
    "# VALIDATION SET 파일 목록\n",
    "f\"!python {os.path.join(SCRIPT_PATH, 'make_file_list.py')} --directory {VAL_DATASET_PATH} --output {VAL_LIST_FILE_PATH}\""
   ]
  },
  {
   "cell_type": "code",
   "execution_count": null,
   "metadata": {},
   "outputs": [],
   "source": []
  },
  {
   "cell_type": "code",
   "execution_count": null,
   "metadata": {
    "colab": {
     "base_uri": "https://localhost:8080/",
     "height": 55
    },
    "executionInfo": {
     "elapsed": 316,
     "status": "ok",
     "timestamp": 1648547595294,
     "user": {
      "displayName": "김성환",
      "userId": "02802166581970122576"
     },
     "user_tz": -540
    },
    "id": "JKqPh9HVjlh5",
    "outputId": "30c1b02f-7bd4-4bba-ea97-c0bf7d4e3ed8"
   },
   "outputs": [],
   "source": [
    "# Test set 파일 목록\n",
    "f\"!python {os.path.join(SCRIPT_PATH, 'make_file_list.py')} --directory {TEST_DATASET_PATH} --output {TEST_LIST_FILE_PATH}\""
   ]
  },
  {
   "cell_type": "code",
   "execution_count": null,
   "metadata": {},
   "outputs": [],
   "source": []
  },
  {
   "cell_type": "code",
   "execution_count": null,
   "metadata": {
    "id": "orkRO0qHjlan"
   },
   "outputs": [],
   "source": []
  },
  {
   "cell_type": "markdown",
   "metadata": {
    "id": "CG--5AFv46OD"
   },
   "source": [
    "### <파일명>.names 파일 작성\n",
    "- .names 파일\n",
    "    - ex) obj.names\n",
    "    - detection할 물체(object)들의 class 들을 작성한 파일\n",
    "    - class 이름을 한줄에 하나씩 작성한다.\n",
    "    \n",
    "```\n",
    "lion\n",
    "tiger\n",
    "```"
   ]
  },
  {
   "cell_type": "code",
   "execution_count": null,
   "metadata": {
    "executionInfo": {
     "elapsed": 303,
     "status": "ok",
     "timestamp": 1648547626980,
     "user": {
      "displayName": "김성환",
      "userId": "02802166581970122576"
     },
     "user_tz": -540
    },
    "id": "5jCInTz146OD"
   },
   "outputs": [],
   "source": [
    "label_list = ['lion\\n', 'tiger']\n",
    "with open(NAMES_FILE_PATH, 'wt') as fw:\n",
    "    fw.writelines(label_list)"
   ]
  },
  {
   "cell_type": "code",
   "execution_count": null,
   "metadata": {
    "id": "x2hXIGUC46OE"
   },
   "outputs": [],
   "source": []
  },
  {
   "cell_type": "markdown",
   "metadata": {
    "id": "iwXShxAQ46OE"
   },
   "source": [
    "### <파일명>.data 파일 작성\n",
    "\n",
    "- .data 파일\n",
    "    - 학습할 데이터셋과 과련된 설정을 하는 파일.\n",
    "    - ex) obj.data\n",
    "```\n",
    "classes = 2\n",
    "train = data/train.txt\n",
    "valid = data/validation.txt\n",
    "names = data/obj.names\n",
    "backup = backup/\n",
    "```\n",
    "    - classes: 검출(detection)할 물체(object)의 개수\n",
    "    - train: Train dataset의 이미지들 경로 목록 파일. \n",
    "    - vaild: Validation dataset의 이미지들 경로 목록파일.\n",
    "    - names: .names 파일 경로.\n",
    "    - backup: 학습 중간 결과 weight들을 저장할 디렉토리."
   ]
  },
  {
   "cell_type": "code",
   "execution_count": null,
   "metadata": {
    "executionInfo": {
     "elapsed": 492,
     "status": "ok",
     "timestamp": 1648547636631,
     "user": {
      "displayName": "김성환",
      "userId": "02802166581970122576"
     },
     "user_tz": -540
    },
    "id": "hpzzbGnq46OE"
   },
   "outputs": [],
   "source": [
    "data_dict = {\n",
    "    'classes':2,\n",
    "    'train':TRAIN_LIST_FILE_PATH,\n",
    "    'valid':VAL_LIST_FILE_PATH,\n",
    "    'names':NAMES_FILE_PATH,\n",
    "    'backup':WEIGHT_BACKUP_PATH\n",
    "}\n",
    "\n",
    "with open(DATA_FILE_PATH, 'wt') as fw:\n",
    "    for key, value in data_dict.items():\n",
    "        fw.write(f\"{key}={value}\\n\")"
   ]
  },
  {
   "cell_type": "markdown",
   "metadata": {
    "id": "3Ia-2fc_46OE"
   },
   "source": [
    "### .cfg (config) 파일 준비\n",
    "- 학습에 사용할 모델관련 설정파일\n",
    "- cfg/yolov4.cfg 파일을 복사한 뒤 다음 항목들을 수정한다.\n",
    "    - batch\n",
    "    - subdivisions\n",
    "        - mini-batch의 darknet 용어.\n",
    "        - GPU 메모리가 부족할 경우 subdivisions의 값을 낮게 잡아준다.\n",
    "    - max_batches(19줄)\n",
    "        - 반복횟수 iteration으로 위에서 지정한 batch를 몇번 반복할지 지정.\n",
    "        - 추천설정: class수 * 2000 (2000 ~ 4000) + class개수*100\n",
    "            - class:2 -> 2\\*2000 + 2\\*100 : 4200\n",
    "    - steps (21줄)\n",
    "        - 추천설정: (80% of max_batches), (90% of max_batches)\n",
    "    - \\[yolo\\] 검색 (3군데)\n",
    "        - \\[yolo\\] 바로위의 \\[convolutional\\] 설정의 filters를 (class수+5)*3 으로 변경\n",
    "            - 961, 1049, 1137 라인\n",
    "        - \\[yolo\\] 설정중 classes: 클래스 개수 로 변경\n",
    "            - 968, 1056, 1144 라인"
   ]
  },
  {
   "cell_type": "code",
   "execution_count": null,
   "metadata": {
    "colab": {
     "base_uri": "https://localhost:8080/",
     "height": 36
    },
    "executionInfo": {
     "elapsed": 369,
     "status": "ok",
     "timestamp": 1648547850578,
     "user": {
      "displayName": "김성환",
      "userId": "02802166581970122576"
     },
     "user_tz": -540
    },
    "id": "Geibqm_w46OF",
    "outputId": "3eda43ff-95ac-44c4-d99d-0e85528f7c37"
   },
   "outputs": [],
   "source": [
    "# cfg/yolov4.cfg -복사-> workspace/config\n",
    "f\"!cp /content/darknet/cfg/yolov4.cfg   {MODEL_CONFIG_FILE_PATH}\""
   ]
  },
  {
   "cell_type": "code",
   "execution_count": null,
   "metadata": {},
   "outputs": [],
   "source": []
  },
  {
   "cell_type": "code",
   "execution_count": null,
   "metadata": {
    "id": "16ZBf-tW46OF"
   },
   "outputs": [],
   "source": []
  },
  {
   "cell_type": "markdown",
   "metadata": {
    "id": "Uex3vmcO46OF"
   },
   "source": [
    "##  Convolution layer를 위한 Pretrained weight 다운로드\n",
    "- 전체 모델중 Yolo V4의 backbone network(Feature extractor)의 미리 학습 시킨 가중치(Weight)를 다운받아 Train때 사용한다. \n",
    "- Download url\n",
    "    -  https://github.com/AlexeyAB/darknet/releases/download/darknet_yolo_v3_optimal/yolov4.conv.137"
   ]
  },
  {
   "cell_type": "code",
   "execution_count": null,
   "metadata": {
    "colab": {
     "base_uri": "https://localhost:8080/",
     "height": 55
    },
    "executionInfo": {
     "elapsed": 384,
     "status": "ok",
     "timestamp": 1648547881048,
     "user": {
      "displayName": "김성환",
      "userId": "02802166581970122576"
     },
     "user_tz": -540
    },
    "id": "KCYFqTWy46OG",
    "outputId": "95871199-e368-468e-a543-79f332fd9904"
   },
   "outputs": [],
   "source": [
    "f\"!wget -P {PRE_TRAINED_WEIGHT_DIR_PATH}  https://github.com/AlexeyAB/darknet/releases/download/darknet_yolo_v3_optimal/yolov4.conv.137\""
   ]
  },
  {
   "cell_type": "code",
   "execution_count": null,
   "metadata": {},
   "outputs": [],
   "source": []
  },
  {
   "cell_type": "markdown",
   "metadata": {
    "id": "S6Fu6_tZ46OH"
   },
   "source": [
    "## Custom Data 학습하기\n",
    "\n",
    "- 명령어\n",
    "```\n",
    "!./darknet detector train <path to .data> <path to custom config> <path to weights> -dont_show -map\n",
    "```\n",
    "    - \\<path to .data file\\>: `.data` 파일경로. \n",
    "    - \\<path to custom config\\>: .config 파일경로\n",
    "    - \\<path to weights\\>: pretrained weight 파일 경로\n",
    "    - `-dont_show`\n",
    "        - 학습 진행 chart를 pop으로 보여주는데 Colab에서는 이 chart를 볼 수 없기 때문에 보여주지 말도록 설정. 대신 학습 후 chart.jpg 파일이 생성된다.\n",
    "    - `-map` : Mean Average Precision을 평가 지표로 사용. mAP로 평가결과가 학습 진행 chart에 출력된다.\n",
    " \n",
    "- 학습 100번의 iteration 마다 `.data` 에 설장한 backup 경로에 yolov4_last.weight 파일로 학습된 weights를 저장한다. \n",
    "    - 혹시 중간에 문제가 생겨 학습이 멈추면 이 가중치를 이용해 학습을 이어나가면 된다.\n",
    "- 학습이 완료되면 .data 설정파일에 지정한 backup 디렉토리에 yolov4_best.weights, yolov4_last.weights, yolov4_final.weights, yolov4_1000.weights, yolov4_2000.weights,... 파일이 생성된다."
   ]
  },
  {
   "cell_type": "code",
   "execution_count": null,
   "metadata": {
    "colab": {
     "base_uri": "https://localhost:8080/",
     "height": 73
    },
    "executionInfo": {
     "elapsed": 464,
     "status": "ok",
     "timestamp": 1648547906999,
     "user": {
      "displayName": "김성환",
      "userId": "02802166581970122576"
     },
     "user_tz": -540
    },
    "id": "epaHkJpF46OI",
    "outputId": "504bf013-4b60-4c89-bdeb-52d1dcbd9886"
   },
   "outputs": [],
   "source": [
    "f\"!./darknet  detector  train  {DATA_FILE_PATH}  {MODEL_CONFIG_FILE_PATH}  {PRE_TRAINED_WEIGHT_FILE_PATH} \\\n",
    " -dont_show  -map\""
   ]
  },
  {
   "cell_type": "code",
   "execution_count": null,
   "metadata": {},
   "outputs": [],
   "source": []
  },
  {
   "cell_type": "code",
   "execution_count": null,
   "metadata": {},
   "outputs": [],
   "source": [
    "!pip install --upgrade gdown"
   ]
  },
  {
   "cell_type": "code",
   "execution_count": null,
   "metadata": {
    "colab": {
     "base_uri": "https://localhost:8080/",
     "height": 108
    },
    "executionInfo": {
     "elapsed": 3482,
     "status": "ok",
     "timestamp": 1640575019319,
     "user": {
      "displayName": "김성환",
      "photoUrl": "https://lh3.googleusercontent.com/a/default-user=s64",
      "userId": "17974227978557155744"
     },
     "user_tz": -540
    },
    "id": "ASmJjvIGw7aQ",
    "outputId": "da6d776b-9e26-4bdc-826b-abc7a6514580"
   },
   "outputs": [],
   "source": [
    "# 미리 학습 시킨 weight 다운로드\n",
    "\n",
    "import gdown\n",
    "url = 'https://drive.google.com/uc?id=1yWVk-Tavo644s_byVrvk9Ju7U_imQwwZ'\n",
    "fname = 'yolov4_best.weights'\n",
    "gdown.download(url, fname, quiet=False)"
   ]
  },
  {
   "cell_type": "code",
   "execution_count": null,
   "metadata": {
    "colab": {
     "base_uri": "https://localhost:8080/",
     "height": 35
    },
    "executionInfo": {
     "elapsed": 372,
     "status": "ok",
     "timestamp": 1640575106233,
     "user": {
      "displayName": "김성환",
      "photoUrl": "https://lh3.googleusercontent.com/a/default-user=s64",
      "userId": "17974227978557155744"
     },
     "user_tz": -540
    },
    "id": "G-r5Y5Jn5Nu-",
    "outputId": "72704029-b671-42f0-d9ad-ee15aadc250d"
   },
   "outputs": [],
   "source": [
    "f\"!cp yolov4_best.weights  -d {WEIGHT_BACKUP_PATH}\""
   ]
  },
  {
   "cell_type": "code",
   "execution_count": null,
   "metadata": {},
   "outputs": [],
   "source": []
  },
  {
   "cell_type": "markdown",
   "metadata": {
    "id": "Hp7x-2AV6FWo"
   },
   "source": [
    "# 새로운 데이터 추론"
   ]
  },
  {
   "cell_type": "code",
   "execution_count": null,
   "metadata": {
    "colab": {
     "base_uri": "https://localhost:8080/",
     "height": 54
    },
    "executionInfo": {
     "elapsed": 24,
     "status": "ok",
     "timestamp": 1640575619972,
     "user": {
      "displayName": "김성환",
      "photoUrl": "https://lh3.googleusercontent.com/a/default-user=s64",
      "userId": "17974227978557155744"
     },
     "user_tz": -540
    },
    "id": "FSxeCwO45Ne5",
    "outputId": "5357869d-ca9f-43f3-de63-5acc4e422a12"
   },
   "outputs": [],
   "source": [
    "file_path = 'data/tiger2.jpg'\n",
    "f\"!./darknet  detector  test  {DATA_FILE_PATH}  {MODEL_CONFIG_FILE_PATH}  yolov4_best.weights \\\n",
    " {file_path}  -dont_show\""
   ]
  },
  {
   "cell_type": "code",
   "execution_count": null,
   "metadata": {},
   "outputs": [],
   "source": []
  },
  {
   "cell_type": "code",
   "execution_count": null,
   "metadata": {
    "colab": {
     "base_uri": "https://localhost:8080/",
     "height": 633
    },
    "executionInfo": {
     "elapsed": 4126,
     "status": "ok",
     "timestamp": 1640575675555,
     "user": {
      "displayName": "김성환",
      "photoUrl": "https://lh3.googleusercontent.com/a/default-user=s64",
      "userId": "17974227978557155744"
     },
     "user_tz": -540
    },
    "id": "h40mxZ7F6yqX",
    "outputId": "97ee05a1-6099-4dca-c1fd-e20ffcd65329"
   },
   "outputs": [],
   "source": [
    "im_show('predictions.jpg')"
   ]
  }
 ],
 "metadata": {
  "accelerator": "GPU",
  "colab": {
   "collapsed_sections": [],
   "name": "Process_ec06.ipynb",
   "provenance": []
  },
  "kernelspec": {
   "display_name": "Python 3 (ipykernel)",
   "language": "python",
   "name": "python3"
  },
  "language_info": {
   "codemirror_mode": {
    "name": "ipython",
    "version": 3
   },
   "file_extension": ".py",
   "mimetype": "text/x-python",
   "name": "python",
   "nbconvert_exporter": "python",
   "pygments_lexer": "ipython3",
   "version": "3.8.12"
  },
  "varInspector": {
   "cols": {
    "lenName": 16,
    "lenType": 16,
    "lenVar": 40
   },
   "kernels_config": {
    "python": {
     "delete_cmd_postfix": "",
     "delete_cmd_prefix": "del ",
     "library": "var_list.py",
     "varRefreshCmd": "print(var_dic_list())"
    },
    "r": {
     "delete_cmd_postfix": ") ",
     "delete_cmd_prefix": "rm(",
     "library": "var_list.r",
     "varRefreshCmd": "cat(var_dic_list()) "
    }
   },
   "types_to_exclude": [
    "module",
    "function",
    "builtin_function_or_method",
    "instance",
    "_Feature"
   ],
   "window_display": false
  }
 },
 "nbformat": 4,
 "nbformat_minor": 1
}
